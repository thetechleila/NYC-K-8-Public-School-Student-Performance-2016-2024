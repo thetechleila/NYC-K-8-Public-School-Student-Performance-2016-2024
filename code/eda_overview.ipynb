{
 "cells": [
  {
   "cell_type": "markdown",
   "metadata": {},
   "source": [
    "# NYC K-8 Student Performance 2016-2024: Analyzing the Effects of the Covid-19 Pandemic Lockdown on Educational Outcomes and More\n",
    "___"
   ]
  },
  {
   "cell_type": "markdown",
   "metadata": {},
   "source": [
    "## _Overview of Data Set Details_"
   ]
  },
  {
   "cell_type": "code",
   "execution_count": 1,
   "metadata": {},
   "outputs": [],
   "source": [
    "import pandas as pd \n",
    "import matplotlib.pyplot as plt\n",
    "import seaborn as sns \n",
    "import numpy as np"
   ]
  },
  {
   "cell_type": "code",
   "execution_count": 2,
   "metadata": {},
   "outputs": [],
   "source": [
    "#Store csv file paths in variables for readability\n",
    "\n",
    "demo_path = (\"/Users/sa14/Desktop/NYC-K-8-Public-School-Student-Performance-2016-2024/data/2016-2021 K8 Borough Demographic_Snapshot  copy.csv\")\n",
    "interact_path=(\"/Users/sa14/Desktop/NYC-K-8-Public-School-Student-Performance-2016-2024/data/2020 Interactions NYC K-8 Attendance_Metric.csv\")\n",
    "attend_path=(\"/Users/sa14/Desktop/NYC-K-8-Public-School-Student-Performance-2016-2024/data/attendance_2016-24 K8 borough.csv\")\n",
    "ela_path=(\"/Users/sa14/Desktop/NYC-K-8-Public-School-Student-Performance-2016-2024/data/ELA Test_Results 2016-2023 3-8grades.csv\")\n",
    "math_path=(\"/Users/sa14/Desktop/NYC-K-8-Public-School-Student-Performance-2016-2024/data/Math_Test_Results nycK-8 2016-2023.csv\")\n",
    "sth_path=(\"/Users/sa14/Desktop/NYC-K-8-Public-School-Student-Performance-2016-2024/data/STH_K-8 2018-2024 Attendance.csv\")\n"
   ]
  },
  {
   "cell_type": "code",
   "execution_count": 3,
   "metadata": {},
   "outputs": [],
   "source": [
    "#Load datasets\n",
    "\n",
    "demo = pd.read_csv(demo_path)\n",
    "interactions = pd.read_csv(interact_path)\n",
    "attendance = pd.read_csv(attend_path)\n",
    "ela_test = pd.read_csv(ela_path)\n",
    "math_test = pd.read_csv(math_path)\n",
    "sth_df = pd.read_csv(sth_path)\n"
   ]
  },
  {
   "cell_type": "code",
   "execution_count": 4,
   "metadata": {},
   "outputs": [
    {
     "data": {
      "text/plain": [
       "(25, 23)"
      ]
     },
     "execution_count": 4,
     "metadata": {},
     "output_type": "execute_result"
    }
   ],
   "source": [
    "#Shape of nyc k-8 demographics dataset (rows and columns)\n",
    "\n",
    "demo.shape"
   ]
  },
  {
   "cell_type": "code",
   "execution_count": 5,
   "metadata": {},
   "outputs": [
    {
     "data": {
      "text/plain": [
       "(45, 11)"
      ]
     },
     "execution_count": 5,
     "metadata": {},
     "output_type": "execute_result"
    }
   ],
   "source": [
    "#Shape of nyc k-8 interactions dataset (rows and columns)\n",
    "\n",
    "interactions.shape"
   ]
  },
  {
   "cell_type": "code",
   "execution_count": 6,
   "metadata": {},
   "outputs": [
    {
     "data": {
      "text/plain": [
       "(5071, 11)"
      ]
     },
     "execution_count": 6,
     "metadata": {},
     "output_type": "execute_result"
    }
   ],
   "source": [
    "#Shape of nyc k-8 attendance dataset (rows and columns)\n",
    "\n",
    "attendance.shape"
   ]
  },
  {
   "cell_type": "code",
   "execution_count": 7,
   "metadata": {},
   "outputs": [
    {
     "data": {
      "text/plain": [
       "(4285, 11)"
      ]
     },
     "execution_count": 7,
     "metadata": {},
     "output_type": "execute_result"
    }
   ],
   "source": [
    "#Shape of nyc k-8 ela test dataset (rows and columns)\n",
    "\n",
    "ela_test.shape"
   ]
  },
  {
   "cell_type": "code",
   "execution_count": 8,
   "metadata": {},
   "outputs": [
    {
     "data": {
      "text/plain": [
       "(4314, 11)"
      ]
     },
     "execution_count": 8,
     "metadata": {},
     "output_type": "execute_result"
    }
   ],
   "source": [
    "#Shape of nyc math test dataset (rows and columns)\n",
    "\n",
    "math_test.shape"
   ]
  },
  {
   "cell_type": "code",
   "execution_count": 9,
   "metadata": {},
   "outputs": [
    {
     "data": {
      "text/plain": [
       "(540, 9)"
      ]
     },
     "execution_count": 9,
     "metadata": {},
     "output_type": "execute_result"
    }
   ],
   "source": [
    "#Shape of nyc k-8 sth [students in temporary housing] dataset (rows and columns)\n",
    "\n",
    "sth_df.shape"
   ]
  }
 ],
 "metadata": {
  "kernelspec": {
   "display_name": "older_python_310",
   "language": "python",
   "name": "python3"
  },
  "language_info": {
   "codemirror_mode": {
    "name": "ipython",
    "version": 3
   },
   "file_extension": ".py",
   "mimetype": "text/x-python",
   "name": "python",
   "nbconvert_exporter": "python",
   "pygments_lexer": "ipython3",
   "version": "3.10.16"
  }
 },
 "nbformat": 4,
 "nbformat_minor": 2
}
