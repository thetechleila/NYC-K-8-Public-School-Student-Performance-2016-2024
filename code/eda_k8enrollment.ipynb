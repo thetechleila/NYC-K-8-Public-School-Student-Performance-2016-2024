{
 "cells": [
  {
   "cell_type": "markdown",
   "metadata": {},
   "source": [
    "# NYC K-8 Student Performance 2016-2024: Analyzing the Effects of the Covid-19 Pandemic Lockdown on Educational Outcomes and More\n",
    "___"
   ]
  },
  {
   "cell_type": "markdown",
   "metadata": {},
   "source": [
    "# NYC K-8 Public School Enrollment Changes 2015-2024: _Multivariate Analyses_"
   ]
  },
  {
   "cell_type": "code",
   "execution_count": 1,
   "metadata": {},
   "outputs": [],
   "source": [
    "import pandas as pd \n",
    "import matplotlib.pyplot as plt\n",
    "import seaborn as sns \n",
    "import numpy as np"
   ]
  },
  {
   "cell_type": "code",
   "execution_count": 2,
   "metadata": {},
   "outputs": [],
   "source": [
    "#Store demographic csv in variable \n",
    "demo_path = (\"/Users/sa14/Desktop/NYC-K-8-Public-School-Student-Performance-2016-2024/data/NYC_K12 Demographic_Snapshot_2015-2024.csv\")\n",
    "\n",
    "#load csv\n",
    "demo = pd.read_csv(demo_path)"
   ]
  }
 ],
 "metadata": {
  "kernelspec": {
   "display_name": "older_python_310",
   "language": "python",
   "name": "python3"
  },
  "language_info": {
   "codemirror_mode": {
    "name": "ipython",
    "version": 3
   },
   "file_extension": ".py",
   "mimetype": "text/x-python",
   "name": "python",
   "nbconvert_exporter": "python",
   "pygments_lexer": "ipython3",
   "version": "3.10.16"
  }
 },
 "nbformat": 4,
 "nbformat_minor": 2
}
