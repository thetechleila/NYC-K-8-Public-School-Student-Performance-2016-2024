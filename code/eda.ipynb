{
 "cells": [
  {
   "cell_type": "markdown",
   "metadata": {},
   "source": [
    "# NYC K-8 Student Performance 2016-2024: Analyzing the Effects of the Covid-19 Pandemic Lockdown on Educational Outcomes and More"
   ]
  },
  {
   "cell_type": "markdown",
   "metadata": {},
   "source": [
    "# _Multivariate Analyses_"
   ]
  },
  {
   "cell_type": "markdown",
   "metadata": {},
   "source": [
    "## NYC K-8 Public School Demographics 2016-2024"
   ]
  },
  {
   "cell_type": "markdown",
   "metadata": {},
   "source": [
    "**The NYC Public School System is the largest public school district in the entire United States and among one of the largest in the world as of July 2025.**\n",
    "\n",
    "**In 2023-24, there were approximately [1.1 million K-12 students enrolled](schools.nyc.gov/about-us/reports/doe-data-at-a-glance) across more than 1,800 schools (including charter schools).**"
   ]
  },
  {
   "cell_type": "code",
   "execution_count": 1,
   "metadata": {},
   "outputs": [],
   "source": [
    "import pandas as pd \n",
    "import matplotlib.pyplot as plt\n",
    "import seaborn as sns \n",
    "import numpy as np"
   ]
  },
  {
   "cell_type": "code",
   "execution_count": 2,
   "metadata": {},
   "outputs": [],
   "source": [
    "#Store demographic csv in variable \n",
    "demo_path = (\"/Users/sa14/Desktop/NYC-K-8-Public-School-Student-Performance-2016-2024/data/2015-24 K12 Borough_Demographic_Snapshot.csv\")\n",
    "\n",
    "#load csv\n",
    "demo = pd.read_csv(demo_path)"
   ]
  },
  {
   "cell_type": "code",
   "execution_count": null,
   "metadata": {},
   "outputs": [],
   "source": []
  }
 ],
 "metadata": {
  "kernelspec": {
   "display_name": "older_python_310",
   "language": "python",
   "name": "python3"
  },
  "language_info": {
   "codemirror_mode": {
    "name": "ipython",
    "version": 3
   },
   "file_extension": ".py",
   "mimetype": "text/x-python",
   "name": "python",
   "nbconvert_exporter": "python",
   "pygments_lexer": "ipython3",
   "version": "3.10.16"
  }
 },
 "nbformat": 4,
 "nbformat_minor": 2
}
